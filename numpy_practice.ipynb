{
  "nbformat": 4,
  "nbformat_minor": 0,
  "metadata": {
    "colab": {
      "provenance": []
    },
    "kernelspec": {
      "name": "python3",
      "display_name": "Python 3"
    },
    "language_info": {
      "name": "python"
    }
  },
  "cells": [
    {
      "cell_type": "markdown",
      "source": [
        "This notebook is a Numpy Practice, built based on the Youtube channel - [Nicholas Renotte](https://www.youtube.com/watch?v=uRsE5WGiKWo&list=PLgNJO2hghbmjpjt9sa2POi4U0a1-GGTlj&index=1)."
      ],
      "metadata": {
        "id": "pSCUPWMZZE8g"
      }
    },
    {
      "cell_type": "markdown",
      "source": [
        "##CREATE"
      ],
      "metadata": {
        "id": "NlRDzoQsT3KB"
      }
    },
    {
      "cell_type": "code",
      "execution_count": 1,
      "metadata": {
        "id": "f_-hknxVSFNc"
      },
      "outputs": [],
      "source": [
        "import numpy as np"
      ]
    },
    {
      "cell_type": "code",
      "source": [
        "data = np.random.rand(2,3,4)\n",
        "zeros = np.zeros((2,2,2))\n",
        "full = np.full((2,2,2),9)\n",
        "ones = np.ones((2,2,2))"
      ],
      "metadata": {
        "id": "cIFEqBCySHvf"
      },
      "execution_count": 5,
      "outputs": []
    },
    {
      "cell_type": "code",
      "source": [
        "data"
      ],
      "metadata": {
        "colab": {
          "base_uri": "https://localhost:8080/"
        },
        "id": "d-_EOk-vSiIr",
        "outputId": "c52f8ed8-129c-4693-f487-311350f1d547"
      },
      "execution_count": 3,
      "outputs": [
        {
          "output_type": "execute_result",
          "data": {
            "text/plain": [
              "array([[[0.63560618, 0.337079  , 0.51096135, 0.72318385],\n",
              "        [0.50938869, 0.79939609, 0.54849903, 0.00122319],\n",
              "        [0.04299054, 0.03761445, 0.09238669, 0.31037061]],\n",
              "\n",
              "       [[0.75865056, 0.43301534, 0.35790922, 0.96112821],\n",
              "        [0.74211852, 0.50740904, 0.33175292, 0.84995526],\n",
              "        [0.50283183, 0.7574044 , 0.69344498, 0.73567099]]])"
            ]
          },
          "metadata": {},
          "execution_count": 3
        }
      ]
    },
    {
      "cell_type": "code",
      "source": [
        "zeros"
      ],
      "metadata": {
        "colab": {
          "base_uri": "https://localhost:8080/"
        },
        "id": "uxaZrx7FSixL",
        "outputId": "9602779d-efbb-4c10-9046-a428e0a70daf"
      },
      "execution_count": 6,
      "outputs": [
        {
          "output_type": "execute_result",
          "data": {
            "text/plain": [
              "array([[[0., 0.],\n",
              "        [0., 0.]],\n",
              "\n",
              "       [[0., 0.],\n",
              "        [0., 0.]]])"
            ]
          },
          "metadata": {},
          "execution_count": 6
        }
      ]
    },
    {
      "cell_type": "code",
      "source": [
        "full"
      ],
      "metadata": {
        "colab": {
          "base_uri": "https://localhost:8080/"
        },
        "id": "p2YVxWrjS44s",
        "outputId": "9f0cbfea-389c-4726-d4bc-ae49eba0ce14"
      },
      "execution_count": 7,
      "outputs": [
        {
          "output_type": "execute_result",
          "data": {
            "text/plain": [
              "array([[[9, 9],\n",
              "        [9, 9]],\n",
              "\n",
              "       [[9, 9],\n",
              "        [9, 9]]])"
            ]
          },
          "metadata": {},
          "execution_count": 7
        }
      ]
    },
    {
      "cell_type": "code",
      "source": [
        "ones"
      ],
      "metadata": {
        "colab": {
          "base_uri": "https://localhost:8080/"
        },
        "id": "kbVOldmHS6Ib",
        "outputId": "bfe06291-125a-4dfa-ae2e-59acf9e0133b"
      },
      "execution_count": 8,
      "outputs": [
        {
          "output_type": "execute_result",
          "data": {
            "text/plain": [
              "array([[[1., 1.],\n",
              "        [1., 1.]],\n",
              "\n",
              "       [[1., 1.],\n",
              "        [1., 1.]]])"
            ]
          },
          "metadata": {},
          "execution_count": 8
        }
      ]
    },
    {
      "cell_type": "code",
      "source": [
        "arr = np.array([[1,2,3,4],[1,2,3,4]])"
      ],
      "metadata": {
        "id": "sX4SqufgS7DC"
      },
      "execution_count": 9,
      "outputs": []
    },
    {
      "cell_type": "code",
      "source": [
        "arr"
      ],
      "metadata": {
        "colab": {
          "base_uri": "https://localhost:8080/"
        },
        "id": "1kB12zZITKyc",
        "outputId": "eb1e218d-5026-49d8-f227-92cc5fa1e607"
      },
      "execution_count": 10,
      "outputs": [
        {
          "output_type": "execute_result",
          "data": {
            "text/plain": [
              "array([[1, 2, 3, 4],\n",
              "       [1, 2, 3, 4]])"
            ]
          },
          "metadata": {},
          "execution_count": 10
        }
      ]
    },
    {
      "cell_type": "code",
      "source": [
        "type(arr)"
      ],
      "metadata": {
        "colab": {
          "base_uri": "https://localhost:8080/"
        },
        "id": "3vdCNPSFTLkK",
        "outputId": "07b54c8a-7ff7-48d0-be50-9c2149dc7b3e"
      },
      "execution_count": 12,
      "outputs": [
        {
          "output_type": "execute_result",
          "data": {
            "text/plain": [
              "numpy.ndarray"
            ]
          },
          "metadata": {},
          "execution_count": 12
        }
      ]
    },
    {
      "cell_type": "markdown",
      "source": [
        "##READ"
      ],
      "metadata": {
        "id": "imOF2rWoT6j-"
      }
    },
    {
      "cell_type": "code",
      "source": [
        "#Attributes\n",
        "\n",
        "shape = data.shape\n",
        "size = data.size\n",
        "types = data.dtype"
      ],
      "metadata": {
        "id": "tVb0l0EcTM3w"
      },
      "execution_count": 14,
      "outputs": []
    },
    {
      "cell_type": "code",
      "source": [
        "shape"
      ],
      "metadata": {
        "colab": {
          "base_uri": "https://localhost:8080/"
        },
        "id": "rQ1VE2OgUEcf",
        "outputId": "8ab65c2c-545c-4e3c-921c-5dd87efcf771"
      },
      "execution_count": 15,
      "outputs": [
        {
          "output_type": "execute_result",
          "data": {
            "text/plain": [
              "(2, 3, 4)"
            ]
          },
          "metadata": {},
          "execution_count": 15
        }
      ]
    },
    {
      "cell_type": "code",
      "source": [
        "size"
      ],
      "metadata": {
        "colab": {
          "base_uri": "https://localhost:8080/"
        },
        "id": "jtjIXLjXUHgZ",
        "outputId": "4e786310-b2f6-4812-ee0a-ac3d30a69456"
      },
      "execution_count": 16,
      "outputs": [
        {
          "output_type": "execute_result",
          "data": {
            "text/plain": [
              "24"
            ]
          },
          "metadata": {},
          "execution_count": 16
        }
      ]
    },
    {
      "cell_type": "code",
      "source": [
        "types"
      ],
      "metadata": {
        "colab": {
          "base_uri": "https://localhost:8080/"
        },
        "id": "gPo3FE6hUIp8",
        "outputId": "10e6cb5a-af85-4662-ffb3-d16d5bdca263"
      },
      "execution_count": 17,
      "outputs": [
        {
          "output_type": "execute_result",
          "data": {
            "text/plain": [
              "dtype('float64')"
            ]
          },
          "metadata": {},
          "execution_count": 17
        }
      ]
    },
    {
      "cell_type": "code",
      "source": [
        "#Slicers\n",
        "\n",
        "arr = data[0]\n",
        "slicer = data[0][0:2]\n",
        "reverse = data[-1]\n",
        "single_val = data[0][0][0]"
      ],
      "metadata": {
        "id": "qcSBmE0bUJzE"
      },
      "execution_count": 25,
      "outputs": []
    },
    {
      "cell_type": "code",
      "source": [
        "arr"
      ],
      "metadata": {
        "colab": {
          "base_uri": "https://localhost:8080/"
        },
        "id": "e0kW8SxTUaJq",
        "outputId": "8bfe2225-ae3e-496b-c0f3-2e1f0b795edf"
      },
      "execution_count": 19,
      "outputs": [
        {
          "output_type": "execute_result",
          "data": {
            "text/plain": [
              "array([[0.1630594 , 0.42974848, 0.86125996, 0.45838427],\n",
              "       [0.41414831, 0.77807301, 0.3009982 , 0.79019797],\n",
              "       [0.55894303, 0.14278404, 0.73287429, 0.8346951 ]])"
            ]
          },
          "metadata": {},
          "execution_count": 19
        }
      ]
    },
    {
      "cell_type": "code",
      "source": [
        "slicer"
      ],
      "metadata": {
        "colab": {
          "base_uri": "https://localhost:8080/"
        },
        "id": "HFx6r_iwUa-G",
        "outputId": "9839bf5f-1494-4f56-9b24-a8b7c8f6c628"
      },
      "execution_count": 22,
      "outputs": [
        {
          "output_type": "execute_result",
          "data": {
            "text/plain": [
              "array([[0.1630594 , 0.42974848, 0.86125996, 0.45838427],\n",
              "       [0.41414831, 0.77807301, 0.3009982 , 0.79019797]])"
            ]
          },
          "metadata": {},
          "execution_count": 22
        }
      ]
    },
    {
      "cell_type": "code",
      "source": [
        "reverse"
      ],
      "metadata": {
        "colab": {
          "base_uri": "https://localhost:8080/"
        },
        "id": "4VR8-vcBUcpX",
        "outputId": "ac466f19-0ef5-47fa-ad06-2db4fce8d6df"
      },
      "execution_count": 23,
      "outputs": [
        {
          "output_type": "execute_result",
          "data": {
            "text/plain": [
              "array([[0.76036688, 0.738468  , 0.56353828, 0.79430163],\n",
              "       [0.35631414, 0.13346503, 0.77943955, 0.10997729],\n",
              "       [0.00162613, 0.27712216, 0.58519322, 0.34711659]])"
            ]
          },
          "metadata": {},
          "execution_count": 23
        }
      ]
    },
    {
      "cell_type": "code",
      "source": [
        "single_val"
      ],
      "metadata": {
        "colab": {
          "base_uri": "https://localhost:8080/"
        },
        "id": "uf7Cl9F-UjkX",
        "outputId": "69e94ed9-719c-48fb-9c96-5550b1a94b09"
      },
      "execution_count": 26,
      "outputs": [
        {
          "output_type": "execute_result",
          "data": {
            "text/plain": [
              "0.16305939804743452"
            ]
          },
          "metadata": {},
          "execution_count": 26
        }
      ]
    },
    {
      "cell_type": "markdown",
      "source": [
        "##UPDATE"
      ],
      "metadata": {
        "id": "8WzMgU6iVTMH"
      }
    },
    {
      "cell_type": "code",
      "source": [
        "list1 = np.random.rand(10)\n",
        "list2 = np.random.rand(10)"
      ],
      "metadata": {
        "id": "vZpoYypdVaNw"
      },
      "execution_count": 27,
      "outputs": []
    },
    {
      "cell_type": "code",
      "source": [
        "#Basic Math Functions\n",
        "\n",
        "add = np.add(list1,list2)\n",
        "sub = np.subtract(list1,list2)\n",
        "mult = np.multiply(list1,list2)\n",
        "div = np.divide(list1,list2)\n",
        "dot = np.dot(list1,list2)"
      ],
      "metadata": {
        "id": "PCDhyqXhUlLW"
      },
      "execution_count": 28,
      "outputs": []
    },
    {
      "cell_type": "code",
      "source": [
        "print(list1)\n",
        "print(list2)"
      ],
      "metadata": {
        "colab": {
          "base_uri": "https://localhost:8080/"
        },
        "id": "pxuAaukfVy4v",
        "outputId": "da2ee9d6-b23a-4d77-c9c8-b4c2dc206789"
      },
      "execution_count": 32,
      "outputs": [
        {
          "output_type": "stream",
          "name": "stdout",
          "text": [
            "[0.6598603  0.97912222 0.08105853 0.60221976 0.98978995 0.4301138\n",
            " 0.73190236 0.97233437 0.20595744 0.20242901]\n",
            "[0.32823587 0.76387814 0.57089815 0.66375536 0.50114553 0.07090031\n",
            " 0.69810914 0.52071063 0.84966518 0.81372919]\n"
          ]
        }
      ]
    },
    {
      "cell_type": "code",
      "source": [
        "add"
      ],
      "metadata": {
        "colab": {
          "base_uri": "https://localhost:8080/"
        },
        "id": "l6Hb-f43VuuB",
        "outputId": "5d8f0ea9-7013-4a59-a8ff-a52f3bc4baaa"
      },
      "execution_count": 29,
      "outputs": [
        {
          "output_type": "execute_result",
          "data": {
            "text/plain": [
              "array([0.98809617, 1.74300036, 0.65195668, 1.26597512, 1.49093548,\n",
              "       0.50101411, 1.4300115 , 1.49304501, 1.05562262, 1.01615819])"
            ]
          },
          "metadata": {},
          "execution_count": 29
        }
      ]
    },
    {
      "cell_type": "code",
      "source": [
        "sub"
      ],
      "metadata": {
        "colab": {
          "base_uri": "https://localhost:8080/"
        },
        "id": "rSnZ-9irVvZh",
        "outputId": "397aa541-f9c9-4d04-c328-eaa0639e040a"
      },
      "execution_count": 30,
      "outputs": [
        {
          "output_type": "execute_result",
          "data": {
            "text/plain": [
              "array([ 0.33162443,  0.21524408, -0.48983963, -0.06153561,  0.48864442,\n",
              "        0.35921349,  0.03379322,  0.45162374, -0.64370774, -0.61130018])"
            ]
          },
          "metadata": {},
          "execution_count": 30
        }
      ]
    },
    {
      "cell_type": "code",
      "source": [
        "mult"
      ],
      "metadata": {
        "colab": {
          "base_uri": "https://localhost:8080/"
        },
        "id": "jkJf4DDBVwM2",
        "outputId": "ee14fd6e-b99a-474d-def5-2986e97a43bc"
      },
      "execution_count": 33,
      "outputs": [
        {
          "output_type": "execute_result",
          "data": {
            "text/plain": [
              "array([0.21658982, 0.74793006, 0.04627616, 0.39972659, 0.49602881,\n",
              "       0.0304952 , 0.51094773, 0.50630485, 0.17499487, 0.16472239])"
            ]
          },
          "metadata": {},
          "execution_count": 33
        }
      ]
    },
    {
      "cell_type": "code",
      "source": [
        "div"
      ],
      "metadata": {
        "colab": {
          "base_uri": "https://localhost:8080/"
        },
        "id": "9hrYstYkV42n",
        "outputId": "2a90ef96-411c-4266-bb98-af213e562ef7"
      },
      "execution_count": 34,
      "outputs": [
        {
          "output_type": "execute_result",
          "data": {
            "text/plain": [
              "array([2.01032355, 1.28177803, 0.14198422, 0.90729174, 1.97505492,\n",
              "       6.06645842, 1.04840679, 1.86732191, 0.24239835, 0.24876705])"
            ]
          },
          "metadata": {},
          "execution_count": 34
        }
      ]
    },
    {
      "cell_type": "code",
      "source": [
        "dot"
      ],
      "metadata": {
        "colab": {
          "base_uri": "https://localhost:8080/"
        },
        "id": "dwJgaBveV5rP",
        "outputId": "7adbcfac-ce03-49f9-8486-308afd95cdfb"
      },
      "execution_count": 35,
      "outputs": [
        {
          "output_type": "execute_result",
          "data": {
            "text/plain": [
              "3.2940164781812737"
            ]
          },
          "metadata": {},
          "execution_count": 35
        }
      ]
    },
    {
      "cell_type": "code",
      "source": [
        "#Stat Functions\n",
        "\n",
        "sqrt = np.sqrt(25)\n",
        "ab = np.abs(-25)\n",
        "power = np.power(2,5)\n",
        "log = np.log(25)\n",
        "min = np.min(list1)\n",
        "max = np.max(list2)"
      ],
      "metadata": {
        "id": "RRfqokRGV6U2"
      },
      "execution_count": 36,
      "outputs": []
    },
    {
      "cell_type": "code",
      "source": [
        "sqrt"
      ],
      "metadata": {
        "colab": {
          "base_uri": "https://localhost:8080/"
        },
        "id": "7hfgoOc1WQ_T",
        "outputId": "b290f61e-d3db-4d86-854a-425ae3dcdf83"
      },
      "execution_count": 37,
      "outputs": [
        {
          "output_type": "execute_result",
          "data": {
            "text/plain": [
              "5.0"
            ]
          },
          "metadata": {},
          "execution_count": 37
        }
      ]
    },
    {
      "cell_type": "code",
      "source": [
        "ab"
      ],
      "metadata": {
        "colab": {
          "base_uri": "https://localhost:8080/"
        },
        "id": "KPSuZoQCWR9Z",
        "outputId": "8521408f-4e22-487a-de17-1351652c7a53"
      },
      "execution_count": 38,
      "outputs": [
        {
          "output_type": "execute_result",
          "data": {
            "text/plain": [
              "25"
            ]
          },
          "metadata": {},
          "execution_count": 38
        }
      ]
    },
    {
      "cell_type": "code",
      "source": [
        "power"
      ],
      "metadata": {
        "colab": {
          "base_uri": "https://localhost:8080/"
        },
        "id": "8G-m7Kw0WSzn",
        "outputId": "f5dc82e3-d6bd-4c75-e9ac-c3455308e282"
      },
      "execution_count": 39,
      "outputs": [
        {
          "output_type": "execute_result",
          "data": {
            "text/plain": [
              "32"
            ]
          },
          "metadata": {},
          "execution_count": 39
        }
      ]
    },
    {
      "cell_type": "code",
      "source": [
        "log"
      ],
      "metadata": {
        "colab": {
          "base_uri": "https://localhost:8080/"
        },
        "id": "MeYPkei1WTvv",
        "outputId": "fa845b03-931b-4dc4-8520-60e9d3847b15"
      },
      "execution_count": 40,
      "outputs": [
        {
          "output_type": "execute_result",
          "data": {
            "text/plain": [
              "3.2188758248682006"
            ]
          },
          "metadata": {},
          "execution_count": 40
        }
      ]
    },
    {
      "cell_type": "code",
      "source": [
        "min"
      ],
      "metadata": {
        "colab": {
          "base_uri": "https://localhost:8080/"
        },
        "id": "_v4iE1ffWUp-",
        "outputId": "3baee276-e668-4ce5-c7c5-ca786ef11765"
      },
      "execution_count": 41,
      "outputs": [
        {
          "output_type": "execute_result",
          "data": {
            "text/plain": [
              "0.08105852644426059"
            ]
          },
          "metadata": {},
          "execution_count": 41
        }
      ]
    },
    {
      "cell_type": "code",
      "source": [
        "max"
      ],
      "metadata": {
        "colab": {
          "base_uri": "https://localhost:8080/"
        },
        "id": "e-4wcxR3WVk6",
        "outputId": "21bdaba9-caba-4e13-dc65-90585b05fe70"
      },
      "execution_count": 42,
      "outputs": [
        {
          "output_type": "execute_result",
          "data": {
            "text/plain": [
              "0.8496651796582247"
            ]
          },
          "metadata": {},
          "execution_count": 42
        }
      ]
    },
    {
      "cell_type": "code",
      "source": [
        "data"
      ],
      "metadata": {
        "colab": {
          "base_uri": "https://localhost:8080/"
        },
        "id": "2LUjMVS3WWQ_",
        "outputId": "23807934-ace3-4474-ff40-aa09205ce724"
      },
      "execution_count": 43,
      "outputs": [
        {
          "output_type": "execute_result",
          "data": {
            "text/plain": [
              "array([[[0.1630594 , 0.42974848, 0.86125996, 0.45838427],\n",
              "        [0.41414831, 0.77807301, 0.3009982 , 0.79019797],\n",
              "        [0.55894303, 0.14278404, 0.73287429, 0.8346951 ]],\n",
              "\n",
              "       [[0.76036688, 0.738468  , 0.56353828, 0.79430163],\n",
              "        [0.35631414, 0.13346503, 0.77943955, 0.10997729],\n",
              "        [0.00162613, 0.27712216, 0.58519322, 0.34711659]]])"
            ]
          },
          "metadata": {},
          "execution_count": 43
        }
      ]
    },
    {
      "cell_type": "code",
      "source": [
        "data[0][0][0] = 900"
      ],
      "metadata": {
        "id": "uKBAytXhWtt9"
      },
      "execution_count": 44,
      "outputs": []
    },
    {
      "cell_type": "code",
      "source": [
        "data"
      ],
      "metadata": {
        "colab": {
          "base_uri": "https://localhost:8080/"
        },
        "id": "nMaz7uPXWxgn",
        "outputId": "534718a6-9618-440e-806c-c812ec150614"
      },
      "execution_count": 45,
      "outputs": [
        {
          "output_type": "execute_result",
          "data": {
            "text/plain": [
              "array([[[9.00000000e+02, 4.29748476e-01, 8.61259962e-01, 4.58384266e-01],\n",
              "        [4.14148314e-01, 7.78073007e-01, 3.00998198e-01, 7.90197974e-01],\n",
              "        [5.58943025e-01, 1.42784043e-01, 7.32874292e-01, 8.34695101e-01]],\n",
              "\n",
              "       [[7.60366883e-01, 7.38467999e-01, 5.63538281e-01, 7.94301627e-01],\n",
              "        [3.56314144e-01, 1.33465032e-01, 7.79439546e-01, 1.09977289e-01],\n",
              "        [1.62613294e-03, 2.77122163e-01, 5.85193218e-01, 3.47116590e-01]]])"
            ]
          },
          "metadata": {},
          "execution_count": 45
        }
      ]
    },
    {
      "cell_type": "code",
      "source": [
        "data.sort()"
      ],
      "metadata": {
        "id": "dEdjkidpWyI4"
      },
      "execution_count": 47,
      "outputs": []
    },
    {
      "cell_type": "code",
      "source": [
        "data"
      ],
      "metadata": {
        "colab": {
          "base_uri": "https://localhost:8080/"
        },
        "id": "9az4Pp_WW0Od",
        "outputId": "cbe1e0f5-af48-484a-f7d8-6edfb733b452"
      },
      "execution_count": 48,
      "outputs": [
        {
          "output_type": "execute_result",
          "data": {
            "text/plain": [
              "array([[[4.29748476e-01, 4.58384266e-01, 8.61259962e-01, 9.00000000e+02],\n",
              "        [3.00998198e-01, 4.14148314e-01, 7.78073007e-01, 7.90197974e-01],\n",
              "        [1.42784043e-01, 5.58943025e-01, 7.32874292e-01, 8.34695101e-01]],\n",
              "\n",
              "       [[5.63538281e-01, 7.38467999e-01, 7.60366883e-01, 7.94301627e-01],\n",
              "        [1.09977289e-01, 1.33465032e-01, 3.56314144e-01, 7.79439546e-01],\n",
              "        [1.62613294e-03, 2.77122163e-01, 3.47116590e-01, 5.85193218e-01]]])"
            ]
          },
          "metadata": {},
          "execution_count": 48
        }
      ]
    },
    {
      "cell_type": "code",
      "source": [
        "print(data.shape)"
      ],
      "metadata": {
        "colab": {
          "base_uri": "https://localhost:8080/"
        },
        "id": "Z6egwSmSW2pv",
        "outputId": "34158318-a10b-4e9f-b6fc-146ec29693e4"
      },
      "execution_count": 50,
      "outputs": [
        {
          "output_type": "stream",
          "name": "stdout",
          "text": [
            "(2, 3, 4)\n"
          ]
        }
      ]
    },
    {
      "cell_type": "code",
      "source": [
        "data = data.reshape((2,2,-1))"
      ],
      "metadata": {
        "id": "XmKO7qPbW_rv"
      },
      "execution_count": 51,
      "outputs": []
    },
    {
      "cell_type": "code",
      "source": [
        "data.shape"
      ],
      "metadata": {
        "colab": {
          "base_uri": "https://localhost:8080/"
        },
        "id": "UHtXVaTZXLMY",
        "outputId": "5d82ba23-2e03-4531-b5f6-752b9615bc3e"
      },
      "execution_count": 52,
      "outputs": [
        {
          "output_type": "execute_result",
          "data": {
            "text/plain": [
              "(2, 2, 6)"
            ]
          },
          "metadata": {},
          "execution_count": 52
        }
      ]
    },
    {
      "cell_type": "code",
      "source": [
        "zeros = np.zeros(9)"
      ],
      "metadata": {
        "id": "JjtwTCbMXMl6"
      },
      "execution_count": 53,
      "outputs": []
    },
    {
      "cell_type": "code",
      "source": [
        "zeros"
      ],
      "metadata": {
        "colab": {
          "base_uri": "https://localhost:8080/"
        },
        "id": "mFMtzCEoXe5Z",
        "outputId": "943ab286-0a1c-4b9e-bdbf-0b3c80ebaa46"
      },
      "execution_count": 54,
      "outputs": [
        {
          "output_type": "execute_result",
          "data": {
            "text/plain": [
              "array([0., 0., 0., 0., 0., 0., 0., 0., 0.])"
            ]
          },
          "metadata": {},
          "execution_count": 54
        }
      ]
    },
    {
      "cell_type": "code",
      "source": [
        "vals = [3,4]\n",
        "zeros = np.append(zeros,vals)"
      ],
      "metadata": {
        "id": "_GbW3St2XiD1"
      },
      "execution_count": 55,
      "outputs": []
    },
    {
      "cell_type": "code",
      "source": [
        "zeros"
      ],
      "metadata": {
        "colab": {
          "base_uri": "https://localhost:8080/"
        },
        "id": "urtlKg9sXn7o",
        "outputId": "1c1faa75-8714-488e-dfc7-dade17b0b524"
      },
      "execution_count": 56,
      "outputs": [
        {
          "output_type": "execute_result",
          "data": {
            "text/plain": [
              "array([0., 0., 0., 0., 0., 0., 0., 0., 0., 3., 4.])"
            ]
          },
          "metadata": {},
          "execution_count": 56
        }
      ]
    },
    {
      "cell_type": "code",
      "source": [
        "zeros = np.insert(zeros, 2, vals)"
      ],
      "metadata": {
        "id": "i8iuyGnYXove"
      },
      "execution_count": 57,
      "outputs": []
    },
    {
      "cell_type": "code",
      "source": [
        "zeros"
      ],
      "metadata": {
        "colab": {
          "base_uri": "https://localhost:8080/"
        },
        "id": "PNd4d_lMXyaV",
        "outputId": "b87cc4e9-a42e-425b-95a2-ffbce5cc76b0"
      },
      "execution_count": 58,
      "outputs": [
        {
          "output_type": "execute_result",
          "data": {
            "text/plain": [
              "array([0., 0., 3., 4., 0., 0., 0., 0., 0., 0., 0., 3., 4.])"
            ]
          },
          "metadata": {},
          "execution_count": 58
        }
      ]
    },
    {
      "cell_type": "markdown",
      "source": [
        "#DELETE"
      ],
      "metadata": {
        "id": "nogzxDilYRKv"
      }
    },
    {
      "cell_type": "code",
      "source": [
        "data"
      ],
      "metadata": {
        "colab": {
          "base_uri": "https://localhost:8080/"
        },
        "id": "y3Wc19SBXzGT",
        "outputId": "f0f3027c-7216-402f-cc09-acaa80c306bc"
      },
      "execution_count": 59,
      "outputs": [
        {
          "output_type": "execute_result",
          "data": {
            "text/plain": [
              "array([[[4.29748476e-01, 4.58384266e-01, 8.61259962e-01, 9.00000000e+02,\n",
              "         3.00998198e-01, 4.14148314e-01],\n",
              "        [7.78073007e-01, 7.90197974e-01, 1.42784043e-01, 5.58943025e-01,\n",
              "         7.32874292e-01, 8.34695101e-01]],\n",
              "\n",
              "       [[5.63538281e-01, 7.38467999e-01, 7.60366883e-01, 7.94301627e-01,\n",
              "         1.09977289e-01, 1.33465032e-01],\n",
              "        [3.56314144e-01, 7.79439546e-01, 1.62613294e-03, 2.77122163e-01,\n",
              "         3.47116590e-01, 5.85193218e-01]]])"
            ]
          },
          "metadata": {},
          "execution_count": 59
        }
      ]
    },
    {
      "cell_type": "code",
      "source": [
        "np.delete(data, 0, axis=1)"
      ],
      "metadata": {
        "colab": {
          "base_uri": "https://localhost:8080/"
        },
        "id": "pgd8o_uZYTLm",
        "outputId": "d57846a6-7da7-42a6-d953-54b81bd0ad6c"
      },
      "execution_count": 61,
      "outputs": [
        {
          "output_type": "execute_result",
          "data": {
            "text/plain": [
              "array([[[0.77807301, 0.79019797, 0.14278404, 0.55894303, 0.73287429,\n",
              "         0.8346951 ]],\n",
              "\n",
              "       [[0.35631414, 0.77943955, 0.00162613, 0.27712216, 0.34711659,\n",
              "         0.58519322]]])"
            ]
          },
          "metadata": {},
          "execution_count": 61
        }
      ]
    },
    {
      "cell_type": "code",
      "source": [
        "np.save(\"new_array\", data)"
      ],
      "metadata": {
        "id": "GLf5br8LYZbz"
      },
      "execution_count": 62,
      "outputs": []
    },
    {
      "cell_type": "code",
      "source": [
        "test = np.load(\"new_array.npy\")"
      ],
      "metadata": {
        "id": "HIcZCUUeYojR"
      },
      "execution_count": 63,
      "outputs": []
    },
    {
      "cell_type": "code",
      "source": [
        "test"
      ],
      "metadata": {
        "colab": {
          "base_uri": "https://localhost:8080/"
        },
        "id": "KIY-q2FYYxs6",
        "outputId": "9286548c-558a-441c-fdee-500535a5f5f3"
      },
      "execution_count": 64,
      "outputs": [
        {
          "output_type": "execute_result",
          "data": {
            "text/plain": [
              "array([[[4.29748476e-01, 4.58384266e-01, 8.61259962e-01, 9.00000000e+02,\n",
              "         3.00998198e-01, 4.14148314e-01],\n",
              "        [7.78073007e-01, 7.90197974e-01, 1.42784043e-01, 5.58943025e-01,\n",
              "         7.32874292e-01, 8.34695101e-01]],\n",
              "\n",
              "       [[5.63538281e-01, 7.38467999e-01, 7.60366883e-01, 7.94301627e-01,\n",
              "         1.09977289e-01, 1.33465032e-01],\n",
              "        [3.56314144e-01, 7.79439546e-01, 1.62613294e-03, 2.77122163e-01,\n",
              "         3.47116590e-01, 5.85193218e-01]]])"
            ]
          },
          "metadata": {},
          "execution_count": 64
        }
      ]
    },
    {
      "cell_type": "code",
      "source": [],
      "metadata": {
        "id": "Z9dfabSmYygW"
      },
      "execution_count": null,
      "outputs": []
    }
  ]
}