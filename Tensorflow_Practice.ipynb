{
  "nbformat": 4,
  "nbformat_minor": 0,
  "metadata": {
    "colab": {
      "provenance": []
    },
    "kernelspec": {
      "name": "python3",
      "display_name": "Python 3"
    },
    "language_info": {
      "name": "python"
    }
  },
  "cells": [
    {
      "cell_type": "markdown",
      "source": [
        "\n",
        "This notebook is a Tensorflow practice based on the Youtube Channel [Nicholas Renotte](https://www.youtube.com/watch?v=6_2hzRopPbQ&list=PLgNJO2hghbmjpjt9sa2POi4U0a1-GGTlj&index=3)\n"
      ],
      "metadata": {
        "id": "SCkgI8qt6RwB"
      }
    },
    {
      "cell_type": "code",
      "execution_count": 1,
      "metadata": {
        "id": "f7q2x5WgyB66"
      },
      "outputs": [],
      "source": [
        "import pandas as pd"
      ]
    },
    {
      "cell_type": "code",
      "source": [
        "!pip install sklearn"
      ],
      "metadata": {
        "colab": {
          "base_uri": "https://localhost:8080/"
        },
        "id": "5S7V07ERySd5",
        "outputId": "40fcd28c-352f-4a65-82a1-6719583a8060"
      },
      "execution_count": 2,
      "outputs": [
        {
          "output_type": "stream",
          "name": "stdout",
          "text": [
            "Looking in indexes: https://pypi.org/simple, https://us-python.pkg.dev/colab-wheels/public/simple/\n",
            "Collecting sklearn\n",
            "  Downloading sklearn-0.0.post1.tar.gz (3.6 kB)\n",
            "  Preparing metadata (setup.py) ... \u001b[?25l\u001b[?25hdone\n",
            "Building wheels for collected packages: sklearn\n",
            "  Building wheel for sklearn (setup.py) ... \u001b[?25l\u001b[?25hdone\n",
            "  Created wheel for sklearn: filename=sklearn-0.0.post1-py3-none-any.whl size=2955 sha256=b6fe4bdf5f07323e0f647cfa11796ef3b055ed24c924e3a5228eff734d59d042\n",
            "  Stored in directory: /root/.cache/pip/wheels/f8/e0/3d/9d0c2020c44a519b9f02ab4fa6d2a4a996c98d79ab2f569fa1\n",
            "Successfully built sklearn\n",
            "Installing collected packages: sklearn\n",
            "Successfully installed sklearn-0.0.post1\n"
          ]
        }
      ]
    },
    {
      "cell_type": "code",
      "source": [
        "from sklearn.model_selection import train_test_split"
      ],
      "metadata": {
        "id": "XWQcrV3yyGkv"
      },
      "execution_count": 3,
      "outputs": []
    },
    {
      "cell_type": "code",
      "source": [
        "df = pd.read_excel('/content/drive/MyDrive/Work/Practice/numpy/Churn.xlsx')"
      ],
      "metadata": {
        "id": "SlYpCNu-yZUk"
      },
      "execution_count": 18,
      "outputs": []
    },
    {
      "cell_type": "code",
      "source": [
        "df.head()"
      ],
      "metadata": {
        "colab": {
          "base_uri": "https://localhost:8080/",
          "height": 421
        },
        "id": "ApubCcvNytMu",
        "outputId": "7230c65e-5656-41ae-adc2-2cbb742c399e"
      },
      "execution_count": 19,
      "outputs": [
        {
          "output_type": "execute_result",
          "data": {
            "text/plain": [
              "  Customer ID  Gender  Senior Citizen Partner Dependents  tenure  \\\n",
              "0  7590-VHVEA  Female               0     Yes         No       1   \n",
              "1  7590-VHVEG  Female               0     Yes         No       1   \n",
              "2  5575-GNVDE    Male               0      No         No      34   \n",
              "3  3668-QPYBK    Male               0      No         No       2   \n",
              "4  7795-CFOCW    Male               0      No         No      45   \n",
              "\n",
              "  Phone Service    Multiple Lines Internet Service Online Security  ...  \\\n",
              "0            No  No phone service              DSL              No  ...   \n",
              "1            No  No phone service              DSL              No  ...   \n",
              "2           Yes                No              DSL             Yes  ...   \n",
              "3           Yes                No              DSL             Yes  ...   \n",
              "4            No  No phone service              DSL             Yes  ...   \n",
              "\n",
              "  Device Protection Tech Support Streaming TV Streaming Movies  \\\n",
              "0                No           No           No               No   \n",
              "1                No           No           No               No   \n",
              "2               Yes           No           No               No   \n",
              "3                No           No           No               No   \n",
              "4               Yes          Yes           No               No   \n",
              "\n",
              "         Contract Paperless Billing             Payment Method  \\\n",
              "0  Month-to-month               Yes           Electronic check   \n",
              "1  Month-to-month               Yes           Electronic check   \n",
              "2        One year                No               Mailed check   \n",
              "3  Month-to-month               Yes               Mailed check   \n",
              "4        One year                No  Bank transfer (automatic)   \n",
              "\n",
              "  Monthly Charges  Total Charges Churn  \n",
              "0           29.85          29.85    No  \n",
              "1           29.85          29.85    No  \n",
              "2           56.95         1889.5    No  \n",
              "3           53.85         108.15   Yes  \n",
              "4           42.30        1840.75    No  \n",
              "\n",
              "[5 rows x 21 columns]"
            ],
            "text/html": [
              "\n",
              "  <div id=\"df-cab4195b-023b-4b21-895e-685ca8abc2df\">\n",
              "    <div class=\"colab-df-container\">\n",
              "      <div>\n",
              "<style scoped>\n",
              "    .dataframe tbody tr th:only-of-type {\n",
              "        vertical-align: middle;\n",
              "    }\n",
              "\n",
              "    .dataframe tbody tr th {\n",
              "        vertical-align: top;\n",
              "    }\n",
              "\n",
              "    .dataframe thead th {\n",
              "        text-align: right;\n",
              "    }\n",
              "</style>\n",
              "<table border=\"1\" class=\"dataframe\">\n",
              "  <thead>\n",
              "    <tr style=\"text-align: right;\">\n",
              "      <th></th>\n",
              "      <th>Customer ID</th>\n",
              "      <th>Gender</th>\n",
              "      <th>Senior Citizen</th>\n",
              "      <th>Partner</th>\n",
              "      <th>Dependents</th>\n",
              "      <th>tenure</th>\n",
              "      <th>Phone Service</th>\n",
              "      <th>Multiple Lines</th>\n",
              "      <th>Internet Service</th>\n",
              "      <th>Online Security</th>\n",
              "      <th>...</th>\n",
              "      <th>Device Protection</th>\n",
              "      <th>Tech Support</th>\n",
              "      <th>Streaming TV</th>\n",
              "      <th>Streaming Movies</th>\n",
              "      <th>Contract</th>\n",
              "      <th>Paperless Billing</th>\n",
              "      <th>Payment Method</th>\n",
              "      <th>Monthly Charges</th>\n",
              "      <th>Total Charges</th>\n",
              "      <th>Churn</th>\n",
              "    </tr>\n",
              "  </thead>\n",
              "  <tbody>\n",
              "    <tr>\n",
              "      <th>0</th>\n",
              "      <td>7590-VHVEA</td>\n",
              "      <td>Female</td>\n",
              "      <td>0</td>\n",
              "      <td>Yes</td>\n",
              "      <td>No</td>\n",
              "      <td>1</td>\n",
              "      <td>No</td>\n",
              "      <td>No phone service</td>\n",
              "      <td>DSL</td>\n",
              "      <td>No</td>\n",
              "      <td>...</td>\n",
              "      <td>No</td>\n",
              "      <td>No</td>\n",
              "      <td>No</td>\n",
              "      <td>No</td>\n",
              "      <td>Month-to-month</td>\n",
              "      <td>Yes</td>\n",
              "      <td>Electronic check</td>\n",
              "      <td>29.85</td>\n",
              "      <td>29.85</td>\n",
              "      <td>No</td>\n",
              "    </tr>\n",
              "    <tr>\n",
              "      <th>1</th>\n",
              "      <td>7590-VHVEG</td>\n",
              "      <td>Female</td>\n",
              "      <td>0</td>\n",
              "      <td>Yes</td>\n",
              "      <td>No</td>\n",
              "      <td>1</td>\n",
              "      <td>No</td>\n",
              "      <td>No phone service</td>\n",
              "      <td>DSL</td>\n",
              "      <td>No</td>\n",
              "      <td>...</td>\n",
              "      <td>No</td>\n",
              "      <td>No</td>\n",
              "      <td>No</td>\n",
              "      <td>No</td>\n",
              "      <td>Month-to-month</td>\n",
              "      <td>Yes</td>\n",
              "      <td>Electronic check</td>\n",
              "      <td>29.85</td>\n",
              "      <td>29.85</td>\n",
              "      <td>No</td>\n",
              "    </tr>\n",
              "    <tr>\n",
              "      <th>2</th>\n",
              "      <td>5575-GNVDE</td>\n",
              "      <td>Male</td>\n",
              "      <td>0</td>\n",
              "      <td>No</td>\n",
              "      <td>No</td>\n",
              "      <td>34</td>\n",
              "      <td>Yes</td>\n",
              "      <td>No</td>\n",
              "      <td>DSL</td>\n",
              "      <td>Yes</td>\n",
              "      <td>...</td>\n",
              "      <td>Yes</td>\n",
              "      <td>No</td>\n",
              "      <td>No</td>\n",
              "      <td>No</td>\n",
              "      <td>One year</td>\n",
              "      <td>No</td>\n",
              "      <td>Mailed check</td>\n",
              "      <td>56.95</td>\n",
              "      <td>1889.5</td>\n",
              "      <td>No</td>\n",
              "    </tr>\n",
              "    <tr>\n",
              "      <th>3</th>\n",
              "      <td>3668-QPYBK</td>\n",
              "      <td>Male</td>\n",
              "      <td>0</td>\n",
              "      <td>No</td>\n",
              "      <td>No</td>\n",
              "      <td>2</td>\n",
              "      <td>Yes</td>\n",
              "      <td>No</td>\n",
              "      <td>DSL</td>\n",
              "      <td>Yes</td>\n",
              "      <td>...</td>\n",
              "      <td>No</td>\n",
              "      <td>No</td>\n",
              "      <td>No</td>\n",
              "      <td>No</td>\n",
              "      <td>Month-to-month</td>\n",
              "      <td>Yes</td>\n",
              "      <td>Mailed check</td>\n",
              "      <td>53.85</td>\n",
              "      <td>108.15</td>\n",
              "      <td>Yes</td>\n",
              "    </tr>\n",
              "    <tr>\n",
              "      <th>4</th>\n",
              "      <td>7795-CFOCW</td>\n",
              "      <td>Male</td>\n",
              "      <td>0</td>\n",
              "      <td>No</td>\n",
              "      <td>No</td>\n",
              "      <td>45</td>\n",
              "      <td>No</td>\n",
              "      <td>No phone service</td>\n",
              "      <td>DSL</td>\n",
              "      <td>Yes</td>\n",
              "      <td>...</td>\n",
              "      <td>Yes</td>\n",
              "      <td>Yes</td>\n",
              "      <td>No</td>\n",
              "      <td>No</td>\n",
              "      <td>One year</td>\n",
              "      <td>No</td>\n",
              "      <td>Bank transfer (automatic)</td>\n",
              "      <td>42.30</td>\n",
              "      <td>1840.75</td>\n",
              "      <td>No</td>\n",
              "    </tr>\n",
              "  </tbody>\n",
              "</table>\n",
              "<p>5 rows × 21 columns</p>\n",
              "</div>\n",
              "      <button class=\"colab-df-convert\" onclick=\"convertToInteractive('df-cab4195b-023b-4b21-895e-685ca8abc2df')\"\n",
              "              title=\"Convert this dataframe to an interactive table.\"\n",
              "              style=\"display:none;\">\n",
              "        \n",
              "  <svg xmlns=\"http://www.w3.org/2000/svg\" height=\"24px\"viewBox=\"0 0 24 24\"\n",
              "       width=\"24px\">\n",
              "    <path d=\"M0 0h24v24H0V0z\" fill=\"none\"/>\n",
              "    <path d=\"M18.56 5.44l.94 2.06.94-2.06 2.06-.94-2.06-.94-.94-2.06-.94 2.06-2.06.94zm-11 1L8.5 8.5l.94-2.06 2.06-.94-2.06-.94L8.5 2.5l-.94 2.06-2.06.94zm10 10l.94 2.06.94-2.06 2.06-.94-2.06-.94-.94-2.06-.94 2.06-2.06.94z\"/><path d=\"M17.41 7.96l-1.37-1.37c-.4-.4-.92-.59-1.43-.59-.52 0-1.04.2-1.43.59L10.3 9.45l-7.72 7.72c-.78.78-.78 2.05 0 2.83L4 21.41c.39.39.9.59 1.41.59.51 0 1.02-.2 1.41-.59l7.78-7.78 2.81-2.81c.8-.78.8-2.07 0-2.86zM5.41 20L4 18.59l7.72-7.72 1.47 1.35L5.41 20z\"/>\n",
              "  </svg>\n",
              "      </button>\n",
              "      \n",
              "  <style>\n",
              "    .colab-df-container {\n",
              "      display:flex;\n",
              "      flex-wrap:wrap;\n",
              "      gap: 12px;\n",
              "    }\n",
              "\n",
              "    .colab-df-convert {\n",
              "      background-color: #E8F0FE;\n",
              "      border: none;\n",
              "      border-radius: 50%;\n",
              "      cursor: pointer;\n",
              "      display: none;\n",
              "      fill: #1967D2;\n",
              "      height: 32px;\n",
              "      padding: 0 0 0 0;\n",
              "      width: 32px;\n",
              "    }\n",
              "\n",
              "    .colab-df-convert:hover {\n",
              "      background-color: #E2EBFA;\n",
              "      box-shadow: 0px 1px 2px rgba(60, 64, 67, 0.3), 0px 1px 3px 1px rgba(60, 64, 67, 0.15);\n",
              "      fill: #174EA6;\n",
              "    }\n",
              "\n",
              "    [theme=dark] .colab-df-convert {\n",
              "      background-color: #3B4455;\n",
              "      fill: #D2E3FC;\n",
              "    }\n",
              "\n",
              "    [theme=dark] .colab-df-convert:hover {\n",
              "      background-color: #434B5C;\n",
              "      box-shadow: 0px 1px 3px 1px rgba(0, 0, 0, 0.15);\n",
              "      filter: drop-shadow(0px 1px 2px rgba(0, 0, 0, 0.3));\n",
              "      fill: #FFFFFF;\n",
              "    }\n",
              "  </style>\n",
              "\n",
              "      <script>\n",
              "        const buttonEl =\n",
              "          document.querySelector('#df-cab4195b-023b-4b21-895e-685ca8abc2df button.colab-df-convert');\n",
              "        buttonEl.style.display =\n",
              "          google.colab.kernel.accessAllowed ? 'block' : 'none';\n",
              "\n",
              "        async function convertToInteractive(key) {\n",
              "          const element = document.querySelector('#df-cab4195b-023b-4b21-895e-685ca8abc2df');\n",
              "          const dataTable =\n",
              "            await google.colab.kernel.invokeFunction('convertToInteractive',\n",
              "                                                     [key], {});\n",
              "          if (!dataTable) return;\n",
              "\n",
              "          const docLinkHtml = 'Like what you see? Visit the ' +\n",
              "            '<a target=\"_blank\" href=https://colab.research.google.com/notebooks/data_table.ipynb>data table notebook</a>'\n",
              "            + ' to learn more about interactive tables.';\n",
              "          element.innerHTML = '';\n",
              "          dataTable['output_type'] = 'display_data';\n",
              "          await google.colab.output.renderOutput(dataTable, element);\n",
              "          const docLink = document.createElement('div');\n",
              "          docLink.innerHTML = docLinkHtml;\n",
              "          element.appendChild(docLink);\n",
              "        }\n",
              "      </script>\n",
              "    </div>\n",
              "  </div>\n",
              "  "
            ]
          },
          "metadata": {},
          "execution_count": 19
        }
      ]
    },
    {
      "cell_type": "code",
      "source": [
        "df.columns"
      ],
      "metadata": {
        "colab": {
          "base_uri": "https://localhost:8080/"
        },
        "id": "DIHqyzcWyxQK",
        "outputId": "a2eab822-49b6-41e4-f01a-05add201e246"
      },
      "execution_count": 21,
      "outputs": [
        {
          "output_type": "execute_result",
          "data": {
            "text/plain": [
              "Index(['Customer ID', 'Gender', 'Senior Citizen', 'Partner', 'Dependents',\n",
              "       'tenure', 'Phone Service', 'Multiple Lines', 'Internet Service',\n",
              "       'Online Security', 'Online Backup', 'Device Protection', 'Tech Support',\n",
              "       'Streaming TV', 'Streaming Movies', 'Contract', 'Paperless Billing',\n",
              "       'Payment Method', 'Monthly Charges', 'Total Charges', 'Churn'],\n",
              "      dtype='object')"
            ]
          },
          "metadata": {},
          "execution_count": 21
        }
      ]
    },
    {
      "cell_type": "code",
      "source": [],
      "metadata": {
        "id": "Z6abm5k90lxr"
      },
      "execution_count": 21,
      "outputs": []
    },
    {
      "cell_type": "code",
      "source": [
        "df.isnull().sum()"
      ],
      "metadata": {
        "colab": {
          "base_uri": "https://localhost:8080/"
        },
        "id": "0uWngG0cy84n",
        "outputId": "1a0e2fd1-231f-49b1-c493-16f03805f9d7"
      },
      "execution_count": 22,
      "outputs": [
        {
          "output_type": "execute_result",
          "data": {
            "text/plain": [
              "Customer ID          0\n",
              "Gender               0\n",
              "Senior Citizen       0\n",
              "Partner              0\n",
              "Dependents           0\n",
              "tenure               0\n",
              "Phone Service        0\n",
              "Multiple Lines       0\n",
              "Internet Service     0\n",
              "Online Security      0\n",
              "Online Backup        0\n",
              "Device Protection    0\n",
              "Tech Support         0\n",
              "Streaming TV         0\n",
              "Streaming Movies     0\n",
              "Contract             0\n",
              "Paperless Billing    0\n",
              "Payment Method       0\n",
              "Monthly Charges      0\n",
              "Total Charges        0\n",
              "Churn                0\n",
              "dtype: int64"
            ]
          },
          "metadata": {},
          "execution_count": 22
        }
      ]
    },
    {
      "cell_type": "code",
      "source": [
        "df.Churn.unique()"
      ],
      "metadata": {
        "colab": {
          "base_uri": "https://localhost:8080/"
        },
        "id": "bLzfjohMzV9h",
        "outputId": "e87c6542-06f5-4345-ede8-a48d71c4fa63"
      },
      "execution_count": 23,
      "outputs": [
        {
          "output_type": "execute_result",
          "data": {
            "text/plain": [
              "array(['No', 'Yes'], dtype=object)"
            ]
          },
          "metadata": {},
          "execution_count": 23
        }
      ]
    },
    {
      "cell_type": "code",
      "source": [
        "X = pd.get_dummies(df.drop(['Churn', 'Customer ID'], axis=1))\n",
        "y = df['Churn'].apply(lambda x: 1 if x == 'Yes' else 0)"
      ],
      "metadata": {
        "id": "VOVw53I0yh_L"
      },
      "execution_count": 24,
      "outputs": []
    },
    {
      "cell_type": "code",
      "source": [
        "X_train, X_test, y_train, y_test = train_test_split(X, y, test_size = 0.2)"
      ],
      "metadata": {
        "id": "kKipp7JfzgIC"
      },
      "execution_count": 25,
      "outputs": []
    },
    {
      "cell_type": "code",
      "source": [
        "X_train.head()"
      ],
      "metadata": {
        "colab": {
          "base_uri": "https://localhost:8080/",
          "height": 317
        },
        "id": "9uskYE-NzwpE",
        "outputId": "d6734d76-4d9f-4951-85b8-1eec8767cb51"
      },
      "execution_count": 26,
      "outputs": [
        {
          "output_type": "execute_result",
          "data": {
            "text/plain": [
              "      Senior Citizen  tenure  Monthly Charges  Gender_Female  Gender_Male  \\\n",
              "5028               1      10            85.55              0            1   \n",
              "6228               0       2            46.05              0            1   \n",
              "3379               0      72            84.45              0            1   \n",
              "3366               0      19            19.65              0            1   \n",
              "6981               1      16            39.00              0            1   \n",
              "\n",
              "      Partner_No  Partner_Yes  Dependents_No  Dependents_Yes  \\\n",
              "5028           0            1              1               0   \n",
              "6228           1            0              1               0   \n",
              "3379           0            1              1               0   \n",
              "3366           1            0              1               0   \n",
              "6981           1            0              1               0   \n",
              "\n",
              "      Phone Service_No  ...  Total Charges_8496.7  Total Charges_8529.5  \\\n",
              "5028                 0  ...                     0                     0   \n",
              "6228                 0  ...                     0                     0   \n",
              "3379                 0  ...                     0                     0   \n",
              "3366                 0  ...                     0                     0   \n",
              "6981                 1  ...                     0                     0   \n",
              "\n",
              "      Total Charges_8543.25  Total Charges_8547.15  Total Charges_8564.75  \\\n",
              "5028                      0                      0                      0   \n",
              "6228                      0                      0                      0   \n",
              "3379                      0                      0                      0   \n",
              "3366                      0                      0                      0   \n",
              "6981                      0                      0                      0   \n",
              "\n",
              "      Total Charges_8594.4  Total Charges_8670.1  Total Charges_8672.45  \\\n",
              "5028                     0                     0                      0   \n",
              "6228                     0                     0                      0   \n",
              "3379                     0                     0                      0   \n",
              "3366                     0                     0                      0   \n",
              "6981                     0                     0                      0   \n",
              "\n",
              "      Total Charges_8684.8  Total Charges_   \n",
              "5028                     0                0  \n",
              "6228                     0                0  \n",
              "3379                     0                0  \n",
              "3366                     0                0  \n",
              "6981                     0                0  \n",
              "\n",
              "[5 rows x 6575 columns]"
            ],
            "text/html": [
              "\n",
              "  <div id=\"df-4eb1ad9f-09ff-49ea-b6f7-b87085cd054a\">\n",
              "    <div class=\"colab-df-container\">\n",
              "      <div>\n",
              "<style scoped>\n",
              "    .dataframe tbody tr th:only-of-type {\n",
              "        vertical-align: middle;\n",
              "    }\n",
              "\n",
              "    .dataframe tbody tr th {\n",
              "        vertical-align: top;\n",
              "    }\n",
              "\n",
              "    .dataframe thead th {\n",
              "        text-align: right;\n",
              "    }\n",
              "</style>\n",
              "<table border=\"1\" class=\"dataframe\">\n",
              "  <thead>\n",
              "    <tr style=\"text-align: right;\">\n",
              "      <th></th>\n",
              "      <th>Senior Citizen</th>\n",
              "      <th>tenure</th>\n",
              "      <th>Monthly Charges</th>\n",
              "      <th>Gender_Female</th>\n",
              "      <th>Gender_Male</th>\n",
              "      <th>Partner_No</th>\n",
              "      <th>Partner_Yes</th>\n",
              "      <th>Dependents_No</th>\n",
              "      <th>Dependents_Yes</th>\n",
              "      <th>Phone Service_No</th>\n",
              "      <th>...</th>\n",
              "      <th>Total Charges_8496.7</th>\n",
              "      <th>Total Charges_8529.5</th>\n",
              "      <th>Total Charges_8543.25</th>\n",
              "      <th>Total Charges_8547.15</th>\n",
              "      <th>Total Charges_8564.75</th>\n",
              "      <th>Total Charges_8594.4</th>\n",
              "      <th>Total Charges_8670.1</th>\n",
              "      <th>Total Charges_8672.45</th>\n",
              "      <th>Total Charges_8684.8</th>\n",
              "      <th>Total Charges_</th>\n",
              "    </tr>\n",
              "  </thead>\n",
              "  <tbody>\n",
              "    <tr>\n",
              "      <th>5028</th>\n",
              "      <td>1</td>\n",
              "      <td>10</td>\n",
              "      <td>85.55</td>\n",
              "      <td>0</td>\n",
              "      <td>1</td>\n",
              "      <td>0</td>\n",
              "      <td>1</td>\n",
              "      <td>1</td>\n",
              "      <td>0</td>\n",
              "      <td>0</td>\n",
              "      <td>...</td>\n",
              "      <td>0</td>\n",
              "      <td>0</td>\n",
              "      <td>0</td>\n",
              "      <td>0</td>\n",
              "      <td>0</td>\n",
              "      <td>0</td>\n",
              "      <td>0</td>\n",
              "      <td>0</td>\n",
              "      <td>0</td>\n",
              "      <td>0</td>\n",
              "    </tr>\n",
              "    <tr>\n",
              "      <th>6228</th>\n",
              "      <td>0</td>\n",
              "      <td>2</td>\n",
              "      <td>46.05</td>\n",
              "      <td>0</td>\n",
              "      <td>1</td>\n",
              "      <td>1</td>\n",
              "      <td>0</td>\n",
              "      <td>1</td>\n",
              "      <td>0</td>\n",
              "      <td>0</td>\n",
              "      <td>...</td>\n",
              "      <td>0</td>\n",
              "      <td>0</td>\n",
              "      <td>0</td>\n",
              "      <td>0</td>\n",
              "      <td>0</td>\n",
              "      <td>0</td>\n",
              "      <td>0</td>\n",
              "      <td>0</td>\n",
              "      <td>0</td>\n",
              "      <td>0</td>\n",
              "    </tr>\n",
              "    <tr>\n",
              "      <th>3379</th>\n",
              "      <td>0</td>\n",
              "      <td>72</td>\n",
              "      <td>84.45</td>\n",
              "      <td>0</td>\n",
              "      <td>1</td>\n",
              "      <td>0</td>\n",
              "      <td>1</td>\n",
              "      <td>1</td>\n",
              "      <td>0</td>\n",
              "      <td>0</td>\n",
              "      <td>...</td>\n",
              "      <td>0</td>\n",
              "      <td>0</td>\n",
              "      <td>0</td>\n",
              "      <td>0</td>\n",
              "      <td>0</td>\n",
              "      <td>0</td>\n",
              "      <td>0</td>\n",
              "      <td>0</td>\n",
              "      <td>0</td>\n",
              "      <td>0</td>\n",
              "    </tr>\n",
              "    <tr>\n",
              "      <th>3366</th>\n",
              "      <td>0</td>\n",
              "      <td>19</td>\n",
              "      <td>19.65</td>\n",
              "      <td>0</td>\n",
              "      <td>1</td>\n",
              "      <td>1</td>\n",
              "      <td>0</td>\n",
              "      <td>1</td>\n",
              "      <td>0</td>\n",
              "      <td>0</td>\n",
              "      <td>...</td>\n",
              "      <td>0</td>\n",
              "      <td>0</td>\n",
              "      <td>0</td>\n",
              "      <td>0</td>\n",
              "      <td>0</td>\n",
              "      <td>0</td>\n",
              "      <td>0</td>\n",
              "      <td>0</td>\n",
              "      <td>0</td>\n",
              "      <td>0</td>\n",
              "    </tr>\n",
              "    <tr>\n",
              "      <th>6981</th>\n",
              "      <td>1</td>\n",
              "      <td>16</td>\n",
              "      <td>39.00</td>\n",
              "      <td>0</td>\n",
              "      <td>1</td>\n",
              "      <td>1</td>\n",
              "      <td>0</td>\n",
              "      <td>1</td>\n",
              "      <td>0</td>\n",
              "      <td>1</td>\n",
              "      <td>...</td>\n",
              "      <td>0</td>\n",
              "      <td>0</td>\n",
              "      <td>0</td>\n",
              "      <td>0</td>\n",
              "      <td>0</td>\n",
              "      <td>0</td>\n",
              "      <td>0</td>\n",
              "      <td>0</td>\n",
              "      <td>0</td>\n",
              "      <td>0</td>\n",
              "    </tr>\n",
              "  </tbody>\n",
              "</table>\n",
              "<p>5 rows × 6575 columns</p>\n",
              "</div>\n",
              "      <button class=\"colab-df-convert\" onclick=\"convertToInteractive('df-4eb1ad9f-09ff-49ea-b6f7-b87085cd054a')\"\n",
              "              title=\"Convert this dataframe to an interactive table.\"\n",
              "              style=\"display:none;\">\n",
              "        \n",
              "  <svg xmlns=\"http://www.w3.org/2000/svg\" height=\"24px\"viewBox=\"0 0 24 24\"\n",
              "       width=\"24px\">\n",
              "    <path d=\"M0 0h24v24H0V0z\" fill=\"none\"/>\n",
              "    <path d=\"M18.56 5.44l.94 2.06.94-2.06 2.06-.94-2.06-.94-.94-2.06-.94 2.06-2.06.94zm-11 1L8.5 8.5l.94-2.06 2.06-.94-2.06-.94L8.5 2.5l-.94 2.06-2.06.94zm10 10l.94 2.06.94-2.06 2.06-.94-2.06-.94-.94-2.06-.94 2.06-2.06.94z\"/><path d=\"M17.41 7.96l-1.37-1.37c-.4-.4-.92-.59-1.43-.59-.52 0-1.04.2-1.43.59L10.3 9.45l-7.72 7.72c-.78.78-.78 2.05 0 2.83L4 21.41c.39.39.9.59 1.41.59.51 0 1.02-.2 1.41-.59l7.78-7.78 2.81-2.81c.8-.78.8-2.07 0-2.86zM5.41 20L4 18.59l7.72-7.72 1.47 1.35L5.41 20z\"/>\n",
              "  </svg>\n",
              "      </button>\n",
              "      \n",
              "  <style>\n",
              "    .colab-df-container {\n",
              "      display:flex;\n",
              "      flex-wrap:wrap;\n",
              "      gap: 12px;\n",
              "    }\n",
              "\n",
              "    .colab-df-convert {\n",
              "      background-color: #E8F0FE;\n",
              "      border: none;\n",
              "      border-radius: 50%;\n",
              "      cursor: pointer;\n",
              "      display: none;\n",
              "      fill: #1967D2;\n",
              "      height: 32px;\n",
              "      padding: 0 0 0 0;\n",
              "      width: 32px;\n",
              "    }\n",
              "\n",
              "    .colab-df-convert:hover {\n",
              "      background-color: #E2EBFA;\n",
              "      box-shadow: 0px 1px 2px rgba(60, 64, 67, 0.3), 0px 1px 3px 1px rgba(60, 64, 67, 0.15);\n",
              "      fill: #174EA6;\n",
              "    }\n",
              "\n",
              "    [theme=dark] .colab-df-convert {\n",
              "      background-color: #3B4455;\n",
              "      fill: #D2E3FC;\n",
              "    }\n",
              "\n",
              "    [theme=dark] .colab-df-convert:hover {\n",
              "      background-color: #434B5C;\n",
              "      box-shadow: 0px 1px 3px 1px rgba(0, 0, 0, 0.15);\n",
              "      filter: drop-shadow(0px 1px 2px rgba(0, 0, 0, 0.3));\n",
              "      fill: #FFFFFF;\n",
              "    }\n",
              "  </style>\n",
              "\n",
              "      <script>\n",
              "        const buttonEl =\n",
              "          document.querySelector('#df-4eb1ad9f-09ff-49ea-b6f7-b87085cd054a button.colab-df-convert');\n",
              "        buttonEl.style.display =\n",
              "          google.colab.kernel.accessAllowed ? 'block' : 'none';\n",
              "\n",
              "        async function convertToInteractive(key) {\n",
              "          const element = document.querySelector('#df-4eb1ad9f-09ff-49ea-b6f7-b87085cd054a');\n",
              "          const dataTable =\n",
              "            await google.colab.kernel.invokeFunction('convertToInteractive',\n",
              "                                                     [key], {});\n",
              "          if (!dataTable) return;\n",
              "\n",
              "          const docLinkHtml = 'Like what you see? Visit the ' +\n",
              "            '<a target=\"_blank\" href=https://colab.research.google.com/notebooks/data_table.ipynb>data table notebook</a>'\n",
              "            + ' to learn more about interactive tables.';\n",
              "          element.innerHTML = '';\n",
              "          dataTable['output_type'] = 'display_data';\n",
              "          await google.colab.output.renderOutput(dataTable, element);\n",
              "          const docLink = document.createElement('div');\n",
              "          docLink.innerHTML = docLinkHtml;\n",
              "          element.appendChild(docLink);\n",
              "        }\n",
              "      </script>\n",
              "    </div>\n",
              "  </div>\n",
              "  "
            ]
          },
          "metadata": {},
          "execution_count": 26
        }
      ]
    },
    {
      "cell_type": "code",
      "source": [
        "y_train.head()"
      ],
      "metadata": {
        "colab": {
          "base_uri": "https://localhost:8080/"
        },
        "id": "phbiNuyuzzU5",
        "outputId": "da72e68b-71e6-4885-d743-5dca91ae5b2e"
      },
      "execution_count": 27,
      "outputs": [
        {
          "output_type": "execute_result",
          "data": {
            "text/plain": [
              "5028    1\n",
              "6228    1\n",
              "3379    0\n",
              "3366    0\n",
              "6981    1\n",
              "Name: Churn, dtype: int64"
            ]
          },
          "metadata": {},
          "execution_count": 27
        }
      ]
    },
    {
      "cell_type": "markdown",
      "source": [
        "##Import Dependencies"
      ],
      "metadata": {
        "id": "qd_WQ4G41gtM"
      }
    },
    {
      "cell_type": "code",
      "source": [
        "!pip install tensorflow"
      ],
      "metadata": {
        "colab": {
          "base_uri": "https://localhost:8080/"
        },
        "id": "tf4GvjMJz5CA",
        "outputId": "ef1eb636-0b47-4fb7-f51e-ebb782a6261c"
      },
      "execution_count": 28,
      "outputs": [
        {
          "output_type": "stream",
          "name": "stdout",
          "text": [
            "Looking in indexes: https://pypi.org/simple, https://us-python.pkg.dev/colab-wheels/public/simple/\n",
            "Requirement already satisfied: tensorflow in /usr/local/lib/python3.9/dist-packages (2.12.0)\n",
            "Requirement already satisfied: tensorflow-estimator<2.13,>=2.12.0 in /usr/local/lib/python3.9/dist-packages (from tensorflow) (2.12.0)\n",
            "Requirement already satisfied: typing-extensions>=3.6.6 in /usr/local/lib/python3.9/dist-packages (from tensorflow) (4.5.0)\n",
            "Requirement already satisfied: tensorboard<2.13,>=2.12 in /usr/local/lib/python3.9/dist-packages (from tensorflow) (2.12.1)\n",
            "Requirement already satisfied: jax>=0.3.15 in /usr/local/lib/python3.9/dist-packages (from tensorflow) (0.4.7)\n",
            "Requirement already satisfied: setuptools in /usr/local/lib/python3.9/dist-packages (from tensorflow) (67.6.1)\n",
            "Requirement already satisfied: protobuf!=4.21.0,!=4.21.1,!=4.21.2,!=4.21.3,!=4.21.4,!=4.21.5,<5.0.0dev,>=3.20.3 in /usr/local/lib/python3.9/dist-packages (from tensorflow) (3.20.3)\n",
            "Requirement already satisfied: h5py>=2.9.0 in /usr/local/lib/python3.9/dist-packages (from tensorflow) (3.8.0)\n",
            "Requirement already satisfied: opt-einsum>=2.3.2 in /usr/local/lib/python3.9/dist-packages (from tensorflow) (3.3.0)\n",
            "Requirement already satisfied: astunparse>=1.6.0 in /usr/local/lib/python3.9/dist-packages (from tensorflow) (1.6.3)\n",
            "Requirement already satisfied: absl-py>=1.0.0 in /usr/local/lib/python3.9/dist-packages (from tensorflow) (1.4.0)\n",
            "Requirement already satisfied: numpy<1.24,>=1.22 in /usr/local/lib/python3.9/dist-packages (from tensorflow) (1.22.4)\n",
            "Requirement already satisfied: flatbuffers>=2.0 in /usr/local/lib/python3.9/dist-packages (from tensorflow) (23.3.3)\n",
            "Requirement already satisfied: six>=1.12.0 in /usr/local/lib/python3.9/dist-packages (from tensorflow) (1.16.0)\n",
            "Requirement already satisfied: tensorflow-io-gcs-filesystem>=0.23.1 in /usr/local/lib/python3.9/dist-packages (from tensorflow) (0.32.0)\n",
            "Requirement already satisfied: grpcio<2.0,>=1.24.3 in /usr/local/lib/python3.9/dist-packages (from tensorflow) (1.53.0)\n",
            "Requirement already satisfied: termcolor>=1.1.0 in /usr/local/lib/python3.9/dist-packages (from tensorflow) (2.2.0)\n",
            "Requirement already satisfied: libclang>=13.0.0 in /usr/local/lib/python3.9/dist-packages (from tensorflow) (16.0.0)\n",
            "Requirement already satisfied: wrapt<1.15,>=1.11.0 in /usr/local/lib/python3.9/dist-packages (from tensorflow) (1.14.1)\n",
            "Requirement already satisfied: keras<2.13,>=2.12.0 in /usr/local/lib/python3.9/dist-packages (from tensorflow) (2.12.0)\n",
            "Requirement already satisfied: packaging in /usr/local/lib/python3.9/dist-packages (from tensorflow) (23.0)\n",
            "Requirement already satisfied: google-pasta>=0.1.1 in /usr/local/lib/python3.9/dist-packages (from tensorflow) (0.2.0)\n",
            "Requirement already satisfied: gast<=0.4.0,>=0.2.1 in /usr/local/lib/python3.9/dist-packages (from tensorflow) (0.4.0)\n",
            "Requirement already satisfied: wheel<1.0,>=0.23.0 in /usr/local/lib/python3.9/dist-packages (from astunparse>=1.6.0->tensorflow) (0.40.0)\n",
            "Requirement already satisfied: scipy>=1.7 in /usr/local/lib/python3.9/dist-packages (from jax>=0.3.15->tensorflow) (1.10.1)\n",
            "Requirement already satisfied: ml-dtypes>=0.0.3 in /usr/local/lib/python3.9/dist-packages (from jax>=0.3.15->tensorflow) (0.0.4)\n",
            "Requirement already satisfied: tensorboard-plugin-wit>=1.6.0 in /usr/local/lib/python3.9/dist-packages (from tensorboard<2.13,>=2.12->tensorflow) (1.8.1)\n",
            "Requirement already satisfied: google-auth-oauthlib<1.1,>=0.5 in /usr/local/lib/python3.9/dist-packages (from tensorboard<2.13,>=2.12->tensorflow) (1.0.0)\n",
            "Requirement already satisfied: werkzeug>=1.0.1 in /usr/local/lib/python3.9/dist-packages (from tensorboard<2.13,>=2.12->tensorflow) (2.2.3)\n",
            "Requirement already satisfied: requests<3,>=2.21.0 in /usr/local/lib/python3.9/dist-packages (from tensorboard<2.13,>=2.12->tensorflow) (2.27.1)\n",
            "Requirement already satisfied: google-auth<3,>=1.6.3 in /usr/local/lib/python3.9/dist-packages (from tensorboard<2.13,>=2.12->tensorflow) (2.17.1)\n",
            "Requirement already satisfied: tensorboard-data-server<0.8.0,>=0.7.0 in /usr/local/lib/python3.9/dist-packages (from tensorboard<2.13,>=2.12->tensorflow) (0.7.0)\n",
            "Requirement already satisfied: markdown>=2.6.8 in /usr/local/lib/python3.9/dist-packages (from tensorboard<2.13,>=2.12->tensorflow) (3.4.3)\n",
            "Requirement already satisfied: rsa<5,>=3.1.4 in /usr/local/lib/python3.9/dist-packages (from google-auth<3,>=1.6.3->tensorboard<2.13,>=2.12->tensorflow) (4.9)\n",
            "Requirement already satisfied: pyasn1-modules>=0.2.1 in /usr/local/lib/python3.9/dist-packages (from google-auth<3,>=1.6.3->tensorboard<2.13,>=2.12->tensorflow) (0.2.8)\n",
            "Requirement already satisfied: cachetools<6.0,>=2.0.0 in /usr/local/lib/python3.9/dist-packages (from google-auth<3,>=1.6.3->tensorboard<2.13,>=2.12->tensorflow) (5.3.0)\n",
            "Requirement already satisfied: requests-oauthlib>=0.7.0 in /usr/local/lib/python3.9/dist-packages (from google-auth-oauthlib<1.1,>=0.5->tensorboard<2.13,>=2.12->tensorflow) (1.3.1)\n",
            "Requirement already satisfied: importlib-metadata>=4.4 in /usr/local/lib/python3.9/dist-packages (from markdown>=2.6.8->tensorboard<2.13,>=2.12->tensorflow) (6.1.0)\n",
            "Requirement already satisfied: idna<4,>=2.5 in /usr/local/lib/python3.9/dist-packages (from requests<3,>=2.21.0->tensorboard<2.13,>=2.12->tensorflow) (3.4)\n",
            "Requirement already satisfied: certifi>=2017.4.17 in /usr/local/lib/python3.9/dist-packages (from requests<3,>=2.21.0->tensorboard<2.13,>=2.12->tensorflow) (2022.12.7)\n",
            "Requirement already satisfied: charset-normalizer~=2.0.0 in /usr/local/lib/python3.9/dist-packages (from requests<3,>=2.21.0->tensorboard<2.13,>=2.12->tensorflow) (2.0.12)\n",
            "Requirement already satisfied: urllib3<1.27,>=1.21.1 in /usr/local/lib/python3.9/dist-packages (from requests<3,>=2.21.0->tensorboard<2.13,>=2.12->tensorflow) (1.26.15)\n",
            "Requirement already satisfied: MarkupSafe>=2.1.1 in /usr/local/lib/python3.9/dist-packages (from werkzeug>=1.0.1->tensorboard<2.13,>=2.12->tensorflow) (2.1.2)\n",
            "Requirement already satisfied: zipp>=0.5 in /usr/local/lib/python3.9/dist-packages (from importlib-metadata>=4.4->markdown>=2.6.8->tensorboard<2.13,>=2.12->tensorflow) (3.15.0)\n",
            "Requirement already satisfied: pyasn1<0.5.0,>=0.4.6 in /usr/local/lib/python3.9/dist-packages (from pyasn1-modules>=0.2.1->google-auth<3,>=1.6.3->tensorboard<2.13,>=2.12->tensorflow) (0.4.8)\n",
            "Requirement already satisfied: oauthlib>=3.0.0 in /usr/local/lib/python3.9/dist-packages (from requests-oauthlib>=0.7.0->google-auth-oauthlib<1.1,>=0.5->tensorboard<2.13,>=2.12->tensorflow) (3.2.2)\n"
          ]
        }
      ]
    },
    {
      "cell_type": "code",
      "source": [
        "from tensorflow.keras.models import Sequential, load_model\n",
        "from tensorflow.keras.layers import Dense\n",
        "from sklearn.metrics import accuracy_score"
      ],
      "metadata": {
        "id": "rB-9IIfk10MU"
      },
      "execution_count": 30,
      "outputs": []
    },
    {
      "cell_type": "markdown",
      "source": [
        "##Build and Compile"
      ],
      "metadata": {
        "id": "fGU4-II82KXk"
      }
    },
    {
      "cell_type": "code",
      "source": [
        "model = Sequential()"
      ],
      "metadata": {
        "id": "zp6Nc-Q-18QG"
      },
      "execution_count": 31,
      "outputs": []
    },
    {
      "cell_type": "code",
      "source": [
        "model.add(Dense(units=32, activation='relu', input_dim=len(X_train.columns)))\n",
        "model.add(Dense(units=32, activation='relu'))\n",
        "model.add(Dense(units=1, activation='sigmoid'))"
      ],
      "metadata": {
        "id": "WOJj_2Bs2Op6"
      },
      "execution_count": 32,
      "outputs": []
    },
    {
      "cell_type": "code",
      "source": [
        "model.compile(loss='binary_crossentropy', optimizer='sgd', metrics='accuracy')"
      ],
      "metadata": {
        "id": "WxRHvKNZ3KX-"
      },
      "execution_count": 34,
      "outputs": []
    },
    {
      "cell_type": "markdown",
      "source": [
        "##Fit, Predict and Evaluate"
      ],
      "metadata": {
        "id": "aUoCdvpn4Iro"
      }
    },
    {
      "cell_type": "code",
      "source": [
        "#fit\n",
        "model.fit(X_train, y_train, epochs=75, batch_size=32)"
      ],
      "metadata": {
        "colab": {
          "base_uri": "https://localhost:8080/"
        },
        "id": "p-bmGgqW3avI",
        "outputId": "89be4cc3-c438-490c-ac12-cd388f02ae03"
      },
      "execution_count": 59,
      "outputs": [
        {
          "output_type": "stream",
          "name": "stdout",
          "text": [
            "Epoch 1/75\n",
            "177/177 [==============================] - 1s 8ms/step - loss: 0.4148 - accuracy: 0.8016\n",
            "Epoch 2/75\n",
            "177/177 [==============================] - 1s 8ms/step - loss: 0.4148 - accuracy: 0.8041\n",
            "Epoch 3/75\n",
            "177/177 [==============================] - 1s 6ms/step - loss: 0.4145 - accuracy: 0.8012\n",
            "Epoch 4/75\n",
            "177/177 [==============================] - 1s 5ms/step - loss: 0.4157 - accuracy: 0.8002\n",
            "Epoch 5/75\n",
            "177/177 [==============================] - 1s 5ms/step - loss: 0.4147 - accuracy: 0.8035\n",
            "Epoch 6/75\n",
            "177/177 [==============================] - 1s 5ms/step - loss: 0.4164 - accuracy: 0.8051\n",
            "Epoch 7/75\n",
            "177/177 [==============================] - 1s 5ms/step - loss: 0.4158 - accuracy: 0.8020\n",
            "Epoch 8/75\n",
            "177/177 [==============================] - 1s 5ms/step - loss: 0.4167 - accuracy: 0.8016\n",
            "Epoch 9/75\n",
            "177/177 [==============================] - 1s 5ms/step - loss: 0.4156 - accuracy: 0.8034\n",
            "Epoch 10/75\n",
            "177/177 [==============================] - 1s 5ms/step - loss: 0.4146 - accuracy: 0.7977\n",
            "Epoch 11/75\n",
            "177/177 [==============================] - 1s 5ms/step - loss: 0.4146 - accuracy: 0.8005\n",
            "Epoch 12/75\n",
            "177/177 [==============================] - 1s 5ms/step - loss: 0.4152 - accuracy: 0.8053\n",
            "Epoch 13/75\n",
            "177/177 [==============================] - 1s 5ms/step - loss: 0.4142 - accuracy: 0.8018\n",
            "Epoch 14/75\n",
            "177/177 [==============================] - 1s 6ms/step - loss: 0.4137 - accuracy: 0.7995\n",
            "Epoch 15/75\n",
            "177/177 [==============================] - 1s 8ms/step - loss: 0.4149 - accuracy: 0.8032\n",
            "Epoch 16/75\n",
            "177/177 [==============================] - 1s 8ms/step - loss: 0.4157 - accuracy: 0.7988\n",
            "Epoch 17/75\n",
            "177/177 [==============================] - 1s 8ms/step - loss: 0.4150 - accuracy: 0.8016\n",
            "Epoch 18/75\n",
            "177/177 [==============================] - 1s 5ms/step - loss: 0.4144 - accuracy: 0.8027\n",
            "Epoch 19/75\n",
            "177/177 [==============================] - 1s 5ms/step - loss: 0.4167 - accuracy: 0.8018\n",
            "Epoch 20/75\n",
            "177/177 [==============================] - 1s 5ms/step - loss: 0.4144 - accuracy: 0.8002\n",
            "Epoch 21/75\n",
            "177/177 [==============================] - 1s 5ms/step - loss: 0.4159 - accuracy: 0.8023\n",
            "Epoch 22/75\n",
            "177/177 [==============================] - 1s 5ms/step - loss: 0.4113 - accuracy: 0.8048\n",
            "Epoch 23/75\n",
            "177/177 [==============================] - 1s 5ms/step - loss: 0.4180 - accuracy: 0.7966\n",
            "Epoch 24/75\n",
            "177/177 [==============================] - 1s 5ms/step - loss: 0.4149 - accuracy: 0.8039\n",
            "Epoch 25/75\n",
            "177/177 [==============================] - 1s 5ms/step - loss: 0.4185 - accuracy: 0.7986\n",
            "Epoch 26/75\n",
            "177/177 [==============================] - 1s 5ms/step - loss: 0.4167 - accuracy: 0.8012\n",
            "Epoch 27/75\n",
            "177/177 [==============================] - 1s 5ms/step - loss: 0.4213 - accuracy: 0.7995\n",
            "Epoch 28/75\n",
            "177/177 [==============================] - 1s 5ms/step - loss: 0.4139 - accuracy: 0.8000\n",
            "Epoch 29/75\n",
            "177/177 [==============================] - 1s 8ms/step - loss: 0.4157 - accuracy: 0.7993\n",
            "Epoch 30/75\n",
            "177/177 [==============================] - 1s 8ms/step - loss: 0.4155 - accuracy: 0.8000\n",
            "Epoch 31/75\n",
            "177/177 [==============================] - 1s 8ms/step - loss: 0.4136 - accuracy: 0.7991\n",
            "Epoch 32/75\n",
            "177/177 [==============================] - 1s 6ms/step - loss: 0.4146 - accuracy: 0.8027\n",
            "Epoch 33/75\n",
            "177/177 [==============================] - 1s 5ms/step - loss: 0.4130 - accuracy: 0.8016\n",
            "Epoch 34/75\n",
            "177/177 [==============================] - 1s 5ms/step - loss: 0.4165 - accuracy: 0.8014\n",
            "Epoch 35/75\n",
            "177/177 [==============================] - 1s 5ms/step - loss: 0.4152 - accuracy: 0.8012\n",
            "Epoch 36/75\n",
            "177/177 [==============================] - 1s 5ms/step - loss: 0.4153 - accuracy: 0.8043\n",
            "Epoch 37/75\n",
            "177/177 [==============================] - 1s 5ms/step - loss: 0.4144 - accuracy: 0.8021\n",
            "Epoch 38/75\n",
            "177/177 [==============================] - 1s 5ms/step - loss: 0.4154 - accuracy: 0.8025\n",
            "Epoch 39/75\n",
            "177/177 [==============================] - 1s 5ms/step - loss: 0.4146 - accuracy: 0.8012\n",
            "Epoch 40/75\n",
            "177/177 [==============================] - 1s 5ms/step - loss: 0.4141 - accuracy: 0.8043\n",
            "Epoch 41/75\n",
            "177/177 [==============================] - 1s 6ms/step - loss: 0.4136 - accuracy: 0.8005\n",
            "Epoch 42/75\n",
            "177/177 [==============================] - 1s 5ms/step - loss: 0.4160 - accuracy: 0.8000\n",
            "Epoch 43/75\n",
            "177/177 [==============================] - 1s 8ms/step - loss: 0.4141 - accuracy: 0.8048\n",
            "Epoch 44/75\n",
            "177/177 [==============================] - 1s 8ms/step - loss: 0.4155 - accuracy: 0.8030\n",
            "Epoch 45/75\n",
            "177/177 [==============================] - 1s 8ms/step - loss: 0.4146 - accuracy: 0.8009\n",
            "Epoch 46/75\n",
            "177/177 [==============================] - 1s 6ms/step - loss: 0.4130 - accuracy: 0.8030\n",
            "Epoch 47/75\n",
            "177/177 [==============================] - 1s 5ms/step - loss: 0.4147 - accuracy: 0.7988\n",
            "Epoch 48/75\n",
            "177/177 [==============================] - 1s 5ms/step - loss: 0.4129 - accuracy: 0.8043\n",
            "Epoch 49/75\n",
            "177/177 [==============================] - 1s 5ms/step - loss: 0.4151 - accuracy: 0.7989\n",
            "Epoch 50/75\n",
            "177/177 [==============================] - 1s 5ms/step - loss: 0.4162 - accuracy: 0.8043\n",
            "Epoch 51/75\n",
            "177/177 [==============================] - 1s 5ms/step - loss: 0.4156 - accuracy: 0.7988\n",
            "Epoch 52/75\n",
            "177/177 [==============================] - 1s 5ms/step - loss: 0.4142 - accuracy: 0.8021\n",
            "Epoch 53/75\n",
            "177/177 [==============================] - 1s 5ms/step - loss: 0.4149 - accuracy: 0.7989\n",
            "Epoch 54/75\n",
            "177/177 [==============================] - 1s 6ms/step - loss: 0.4152 - accuracy: 0.8018\n",
            "Epoch 55/75\n",
            "177/177 [==============================] - 1s 5ms/step - loss: 0.4171 - accuracy: 0.8009\n",
            "Epoch 56/75\n",
            "177/177 [==============================] - 1s 5ms/step - loss: 0.4123 - accuracy: 0.8039\n",
            "Epoch 57/75\n",
            "177/177 [==============================] - 1s 8ms/step - loss: 0.4141 - accuracy: 0.8014\n",
            "Epoch 58/75\n",
            "177/177 [==============================] - 2s 9ms/step - loss: 0.4150 - accuracy: 0.7993\n",
            "Epoch 59/75\n",
            "177/177 [==============================] - 1s 8ms/step - loss: 0.4121 - accuracy: 0.8021\n",
            "Epoch 60/75\n",
            "177/177 [==============================] - 1s 7ms/step - loss: 0.4151 - accuracy: 0.7975\n",
            "Epoch 61/75\n",
            "177/177 [==============================] - 1s 5ms/step - loss: 0.4123 - accuracy: 0.8062\n",
            "Epoch 62/75\n",
            "177/177 [==============================] - 1s 5ms/step - loss: 0.4194 - accuracy: 0.7968\n",
            "Epoch 63/75\n",
            "177/177 [==============================] - 1s 5ms/step - loss: 0.4185 - accuracy: 0.7989\n",
            "Epoch 64/75\n",
            "177/177 [==============================] - 1s 5ms/step - loss: 0.4144 - accuracy: 0.8044\n",
            "Epoch 65/75\n",
            "177/177 [==============================] - 1s 5ms/step - loss: 0.4136 - accuracy: 0.8062\n",
            "Epoch 66/75\n",
            "177/177 [==============================] - 1s 5ms/step - loss: 0.4156 - accuracy: 0.8000\n",
            "Epoch 67/75\n",
            "177/177 [==============================] - 1s 5ms/step - loss: 0.4152 - accuracy: 0.7988\n",
            "Epoch 68/75\n",
            "177/177 [==============================] - 1s 5ms/step - loss: 0.4145 - accuracy: 0.8053\n",
            "Epoch 69/75\n",
            "177/177 [==============================] - 1s 5ms/step - loss: 0.4150 - accuracy: 0.8004\n",
            "Epoch 70/75\n",
            "177/177 [==============================] - 1s 6ms/step - loss: 0.4141 - accuracy: 0.8025\n",
            "Epoch 71/75\n",
            "177/177 [==============================] - 1s 7ms/step - loss: 0.4138 - accuracy: 0.8012\n",
            "Epoch 72/75\n",
            "177/177 [==============================] - 1s 8ms/step - loss: 0.4153 - accuracy: 0.8020\n",
            "Epoch 73/75\n",
            "177/177 [==============================] - 1s 8ms/step - loss: 0.4136 - accuracy: 0.8011\n",
            "Epoch 74/75\n",
            "177/177 [==============================] - 1s 7ms/step - loss: 0.4136 - accuracy: 0.8032\n",
            "Epoch 75/75\n",
            "177/177 [==============================] - 1s 5ms/step - loss: 0.4151 - accuracy: 0.7989\n"
          ]
        },
        {
          "output_type": "execute_result",
          "data": {
            "text/plain": [
              "<keras.callbacks.History at 0x7f60e33a3460>"
            ]
          },
          "metadata": {},
          "execution_count": 59
        }
      ]
    },
    {
      "cell_type": "code",
      "source": [
        "#predict\n",
        "y_hat = model.predict(X_test)\n",
        "y_hat = [0 if val < 0.5 else 1 for val in y_hat]"
      ],
      "metadata": {
        "colab": {
          "base_uri": "https://localhost:8080/"
        },
        "id": "HgGvJxIq4Zsa",
        "outputId": "41ea8bab-9f0b-4be9-eace-5d8436f6e5e5"
      },
      "execution_count": 60,
      "outputs": [
        {
          "output_type": "stream",
          "name": "stdout",
          "text": [
            "45/45 [==============================] - 0s 3ms/step\n"
          ]
        }
      ]
    },
    {
      "cell_type": "code",
      "source": [
        "accuracy_score(y_test, y_hat)"
      ],
      "metadata": {
        "colab": {
          "base_uri": "https://localhost:8080/"
        },
        "id": "lezbcBA85UtQ",
        "outputId": "b0018850-c7c1-40e5-e052-c22fef230613"
      },
      "execution_count": 61,
      "outputs": [
        {
          "output_type": "execute_result",
          "data": {
            "text/plain": [
              "0.8254080908445706"
            ]
          },
          "metadata": {},
          "execution_count": 61
        }
      ]
    },
    {
      "cell_type": "markdown",
      "source": [
        "##Save Model"
      ],
      "metadata": {
        "id": "Du45a_mi5jbl"
      }
    },
    {
      "cell_type": "code",
      "source": [
        "model.save('tfmodel')"
      ],
      "metadata": {
        "colab": {
          "base_uri": "https://localhost:8080/"
        },
        "id": "iD-w0tKz5koQ",
        "outputId": "f53a49b4-703c-4173-eff9-917c3512ddcd"
      },
      "execution_count": 40,
      "outputs": [
        {
          "output_type": "stream",
          "name": "stderr",
          "text": [
            "WARNING:absl:Found untraced functions such as _update_step_xla while saving (showing 1 of 1). These functions will not be directly callable after loading.\n"
          ]
        }
      ]
    },
    {
      "cell_type": "code",
      "source": [
        "#delete model\n",
        "\n",
        "del model"
      ],
      "metadata": {
        "id": "80NOw2MD5ap4"
      },
      "execution_count": 41,
      "outputs": []
    },
    {
      "cell_type": "code",
      "source": [
        "#load a saved model\n",
        "\n",
        "model = load_model('tfmodel')"
      ],
      "metadata": {
        "id": "v7Qj97yr5-Pn"
      },
      "execution_count": 43,
      "outputs": []
    },
    {
      "cell_type": "code",
      "source": [],
      "metadata": {
        "id": "nALBEjCa6A39"
      },
      "execution_count": null,
      "outputs": []
    }
  ]
}