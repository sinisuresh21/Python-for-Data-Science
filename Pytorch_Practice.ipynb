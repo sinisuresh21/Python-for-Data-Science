{
  "nbformat": 4,
  "nbformat_minor": 0,
  "metadata": {
    "colab": {
      "provenance": []
    },
    "kernelspec": {
      "name": "python3",
      "display_name": "Python 3"
    },
    "language_info": {
      "name": "python"
    },
    "accelerator": "GPU",
    "gpuClass": "standard"
  },
  "cells": [
    {
      "cell_type": "markdown",
      "source": [
        "This notebook is a Pytorch practice based on the Youtube channrl [Nicholas Renotte](https://www.youtube.com/watch?v=mozBidd58VQ&list=PLgNJO2hghbmjY-_2OZbm69f9Ga-eIqFui&index=3)"
      ],
      "metadata": {
        "id": "4Djgzr1nKOBD"
      }
    },
    {
      "cell_type": "code",
      "execution_count": 18,
      "metadata": {
        "id": "41sQmP2Y-ABj"
      },
      "outputs": [],
      "source": [
        "import torch\n",
        "from torch import nn, save, load\n",
        "from torch.optim import Adam\n",
        "from torch.utils.data import DataLoader\n",
        "from torchvision import datasets\n",
        "from torchvision.transforms import ToTensor\n",
        "\n",
        "from PIL import Image"
      ]
    },
    {
      "cell_type": "code",
      "source": [
        "train = datasets.MNIST(root=\"data\", download=True, train=True, transform=ToTensor())\n",
        "dataset = DataLoader(train, 32)\n",
        "#1,28,28\n",
        "#Classes: 0-9"
      ],
      "metadata": {
        "id": "GQaGJjy8-PI7"
      },
      "execution_count": 2,
      "outputs": []
    },
    {
      "cell_type": "code",
      "source": [
        "class ImageClassifier(nn.Module):\n",
        "  def __init__(self):\n",
        "    super().__init__()\n",
        "    self.model = nn.Sequential(\n",
        "        nn.Conv2d(1, 32, (3,3)),\n",
        "        nn.ReLU(),\n",
        "        nn.Conv2d(32, 64, (3,3)),\n",
        "        nn.ReLU(),\n",
        "        nn.Conv2d(64, 64, (3,3)),\n",
        "        nn.ReLU(),\n",
        "        nn.Flatten(),\n",
        "        nn.Linear(64*(28-6)*(28-6), 10)\n",
        "\n",
        "    )\n",
        "\n",
        "  def forward(self, x):\n",
        "        return self.model(x)\n",
        "\n",
        "  "
      ],
      "metadata": {
        "id": "qCcos5fP_EMk"
      },
      "execution_count": 6,
      "outputs": []
    },
    {
      "cell_type": "code",
      "source": [
        "#Instance of neural network, loss, optimizer\n",
        "clf = ImageClassifier().to('cuda')\n",
        "opt = Adam(clf.parameters(), lr=1e-3)\n",
        "loss_fn = nn.CrossEntropyLoss()\n"
      ],
      "metadata": {
        "id": "85Gxut7WA1YK"
      },
      "execution_count": 7,
      "outputs": []
    },
    {
      "cell_type": "code",
      "source": [
        "#Training flow\n",
        "\n",
        "if __name__ == \"__main__\":\n",
        "  for epoch in range(10):\n",
        "    for batch in dataset:\n",
        "      X,y = batch\n",
        "      X, y = X.to('cuda'), y.to('cuda')\n",
        "      yhat = clf(X)\n",
        "      loss = loss_fn(yhat, y)\n",
        "       \n",
        "      opt.zero_grad()\n",
        "      loss.backward()\n",
        "      opt.step()\n",
        "\n",
        "    print(f\"Epoch:{epoch} loss is {loss.item()}\")\n",
        "\n",
        "  #save the model\n",
        "  with open('model_state_pt', 'wb') as f:\n",
        "    save(clf.state_dict(), f)\n"
      ],
      "metadata": {
        "colab": {
          "base_uri": "https://localhost:8080/"
        },
        "id": "Z9ejdz5hBfA6",
        "outputId": "51394f11-b18d-4d8f-fdcf-612bd4226900"
      },
      "execution_count": 16,
      "outputs": [
        {
          "output_type": "stream",
          "name": "stdout",
          "text": [
            "Epoch:0 loss is 0.00014723371714353561\n",
            "Epoch:1 loss is 0.0\n",
            "Epoch:2 loss is 1.4901157641133977e-08\n",
            "Epoch:3 loss is 0.0\n",
            "Epoch:4 loss is 0.0\n",
            "Epoch:5 loss is 0.0\n",
            "Epoch:6 loss is 0.0\n",
            "Epoch:7 loss is 0.0\n",
            "Epoch:8 loss is 0.0\n",
            "Epoch:9 loss is 0.0\n"
          ]
        }
      ]
    },
    {
      "cell_type": "code",
      "source": [
        "if __name__ == \"__main__\":\n",
        "\n",
        "  with open('model_state_pt', 'rb') as f:\n",
        "    clf.load_state_dict(load(f))\n",
        "\n",
        "  img = Image.open('/content/drive/MyDrive/Work/Practice/numpy/test_img/img_3.jpg')\n",
        "  img_tensor = ToTensor()(img).unsqueeze(0).to('cuda')\n",
        "\n",
        "  print(torch.argmax(clf(img_tensor)))"
      ],
      "metadata": {
        "colab": {
          "base_uri": "https://localhost:8080/"
        },
        "id": "w3AUK9yqCgdF",
        "outputId": "7e6d0e01-178c-4030-c2a8-5267c0b10590"
      },
      "execution_count": 21,
      "outputs": [
        {
          "output_type": "stream",
          "name": "stdout",
          "text": [
            "tensor(9, device='cuda:0')\n"
          ]
        }
      ]
    },
    {
      "cell_type": "code",
      "source": [],
      "metadata": {
        "id": "LidNa7MtGiHA"
      },
      "execution_count": null,
      "outputs": []
    }
  ]
}